{
  "nbformat": 4,
  "nbformat_minor": 0,
  "metadata": {
    "colab": {
      "provenance": [],
      "authorship_tag": "ABX9TyMKazTQ/7EB5mjNvIN3oP9U",
      "include_colab_link": true
    },
    "kernelspec": {
      "name": "python3",
      "display_name": "Python 3"
    },
    "language_info": {
      "name": "python"
    }
  },
  "cells": [
    {
      "cell_type": "markdown",
      "metadata": {
        "id": "view-in-github",
        "colab_type": "text"
      },
      "source": [
        "<a href=\"https://colab.research.google.com/github/Felixjuw/SC_Sesii5/blob/main/Rieman.ipynb\" target=\"_parent\"><img src=\"https://colab.research.google.com/assets/colab-badge.svg\" alt=\"Open In Colab\"/></a>"
      ]
    },
    {
      "cell_type": "code",
      "execution_count": 1,
      "metadata": {
        "colab": {
          "base_uri": "https://localhost:8080/"
        },
        "id": "dplwIX4zy4zR",
        "outputId": "aed7d0b3-fac8-4e1c-e34a-29c6a15eabb4"
      },
      "outputs": [
        {
          "output_type": "stream",
          "name": "stdout",
          "text": [
            "1.9835235375094546\n",
            "0.01647646249054535\n",
            "1.9835235375094546\n",
            "0.01647646249054535\n",
            "2.0082484079079745\n",
            "-0.008248407907974542\n"
          ]
        }
      ],
      "source": [
        "import numpy as np\n",
        "\n",
        "a=0\n",
        "b=np.pi\n",
        "n=11\n",
        "h=(b-a)/(n-1)\n",
        "x=np.linspace(a,b,n)\n",
        "f=np.sin(x)\n",
        "\n",
        "I_riemmannL=h*sum(f[:n-1])\n",
        "err_riemmannL=2-I_riemmannL\n",
        "\n",
        "I_riemmannR=h*sum(f[1::])\n",
        "err_riemmannR=2-I_riemmannR\n",
        "\n",
        "I_mid=h*sum(np.sin((x[:n-1]\\\n",
        "                    +x[1:])/2))\n",
        "err_mid=2-I_mid\n",
        "\n",
        "print(I_riemmannL)\n",
        "print(err_riemmannL)\n",
        "\n",
        "print(I_riemmannR)\n",
        "print(err_riemmannR)\n",
        "\n",
        "print(I_mid)\n",
        "print(err_mid)"
      ]
    }
  ]
}